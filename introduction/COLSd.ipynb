{
 "cells": [
  {
   "cell_type": "markdown",
   "metadata": {},
   "source": [
    "# Electricity Generators data set from SL79-80\n",
    "# Corrected OLS for deterministic frontier model"
   ]
  },
  {
   "cell_type": "code",
   "execution_count": 1,
   "metadata": {},
   "outputs": [],
   "source": [
    "import numpy             as np\n",
    "import pandas            as pd\n",
    "import matplotlib.pyplot as mp\n",
    "\n",
    "from sklearn         import linear_model\n",
    "from sklearn.metrics import r2_score\n",
    "from scipy           import stats"
   ]
  },
  {
   "cell_type": "markdown",
   "metadata": {},
   "source": [
    "### 1. Import data"
   ]
  },
  {
   "cell_type": "code",
   "execution_count": 2,
   "metadata": {},
   "outputs": [],
   "source": [
    "SOURCE = \"../DataSets/cowing.xlsx\"\n",
    "df = pd.read_excel(SOURCE)"
   ]
  },
  {
   "cell_type": "code",
   "execution_count": 3,
   "metadata": {},
   "outputs": [],
   "source": [
    "for col in [\"P1\", \"P2\", \"P3\"]:\n",
    "    df[col] = np.log(df[col])"
   ]
  },
  {
   "cell_type": "markdown",
   "metadata": {},
   "source": [
    "### 2. Estimation"
   ]
  },
  {
   "cell_type": "code",
   "execution_count": 4,
   "metadata": {},
   "outputs": [],
   "source": [
    "model = linear_model.LinearRegression()\n",
    "model.fit( df[[\"X1\", \"X2\", \"X3\"]], df[\"y\"] )\n",
    "pred  = model.predict(df[[\"X1\", \"X2\", \"X3\"]])"
   ]
  },
  {
   "cell_type": "code",
   "execution_count": 5,
   "metadata": {},
   "outputs": [],
   "source": [
    "resid     = df[\"y\"] - pred\n",
    "u_star    = -(resid - resid.max())\n",
    "eff_colsd = np.exp(-u_star)"
   ]
  },
  {
   "cell_type": "markdown",
   "metadata": {},
   "source": [
    "### 3. Output"
   ]
  },
  {
   "cell_type": "code",
   "execution_count": 6,
   "metadata": {},
   "outputs": [],
   "source": [
    "newX = pd.DataFrame({\"Constant\":np.ones(df.shape[0])}).join(df[[\"X1\", \"X2\", \"X3\"]])\n",
    "var_b = ( np.linalg.inv(np.dot(newX.T, newX)).diagonal() )\n",
    "\n",
    "EDF  = newX.shape[0] - newX.shape[1]\n",
    "MSE  = (sum((df[\"y\"] - pred)**2)) / EDF\n",
    "rootMSE = np.sqrt(MSE)\n",
    "\n",
    "est   = np.append(model.intercept_, model.coef_)\n",
    "SE    = rootMSE * np.sqrt(var_b)\n",
    "tStat = est / SE\n",
    "pVal  = 2 * (1 - stats.t.cdf(np.abs(tStat), EDF))\n",
    "\n",
    "est   = np.round(est, 3)\n",
    "SE    = np.round(SE, 5)\n",
    "tStat = np.round(tStat, 3)"
   ]
  },
  {
   "cell_type": "code",
   "execution_count": 7,
   "metadata": {},
   "outputs": [
    {
     "name": "stdout",
     "output_type": "stream",
     "text": [
      "colsd = \n",
      "Linear regression model: \n",
      "     y ~ 1 + x1 + x2 + x3 \n",
      "\n",
      "Number of observations: 111, Error degrees of freedom: 107\n",
      "Root Mean Squared Error: 0.0835\n",
      "R-squared: 0.993, Adjusted R-Squared: 234.000\n",
      "\n",
      "Estimated Coefficients:\n"
     ]
    },
    {
     "data": {
      "text/html": [
       "<div>\n",
       "<style scoped>\n",
       "    .dataframe tbody tr th:only-of-type {\n",
       "        vertical-align: middle;\n",
       "    }\n",
       "\n",
       "    .dataframe tbody tr th {\n",
       "        vertical-align: top;\n",
       "    }\n",
       "\n",
       "    .dataframe thead th {\n",
       "        text-align: right;\n",
       "    }\n",
       "</style>\n",
       "<table border=\"1\" class=\"dataframe\">\n",
       "  <thead>\n",
       "    <tr style=\"text-align: right;\">\n",
       "      <th></th>\n",
       "      <th>Estimate</th>\n",
       "      <th>SE</th>\n",
       "      <th>tStat</th>\n",
       "      <th>pValue</th>\n",
       "    </tr>\n",
       "  </thead>\n",
       "  <tbody>\n",
       "    <tr>\n",
       "      <td>(Intersept)</td>\n",
       "      <td>-11.166</td>\n",
       "      <td>0.20473</td>\n",
       "      <td>-54.540</td>\n",
       "      <td>0.000000</td>\n",
       "    </tr>\n",
       "    <tr>\n",
       "      <td>X1</td>\n",
       "      <td>0.036</td>\n",
       "      <td>0.01713</td>\n",
       "      <td>2.095</td>\n",
       "      <td>0.038493</td>\n",
       "    </tr>\n",
       "    <tr>\n",
       "      <td>X2</td>\n",
       "      <td>1.096</td>\n",
       "      <td>0.01700</td>\n",
       "      <td>64.469</td>\n",
       "      <td>0.000000</td>\n",
       "    </tr>\n",
       "    <tr>\n",
       "      <td>X3</td>\n",
       "      <td>-0.021</td>\n",
       "      <td>0.02271</td>\n",
       "      <td>-0.923</td>\n",
       "      <td>0.358130</td>\n",
       "    </tr>\n",
       "  </tbody>\n",
       "</table>\n",
       "</div>"
      ],
      "text/plain": [
       "             Estimate       SE   tStat    pValue\n",
       "(Intersept)   -11.166  0.20473 -54.540  0.000000\n",
       "X1              0.036  0.01713   2.095  0.038493\n",
       "X2              1.096  0.01700  64.469  0.000000\n",
       "X3             -0.021  0.02271  -0.923  0.358130"
      ]
     },
     "execution_count": 7,
     "metadata": {},
     "output_type": "execute_result"
    },
    {
     "data": {
      "image/png": "[encoded data removed]",
      "text/plain": [
       "<Figure size 432x288 with 1 Axes>"
      ]
     },
     "metadata": {
      "needs_background": "light"
     },
     "output_type": "display_data"
    }
   ],
   "source": [
    "print(\"colsd = \\nLinear regression model: \\n \\\n",
    "    y ~ 1 + x1 + x2 + x3 \\n\")\n",
    "\n",
    "output = pd.DataFrame(index  =[\"(Intersept)\", \"X1\", \"X2\", \"X3\"], \n",
    "                      columns=[\"Estimate\", \"SE\", \"tStat\", \"pValue\"])\n",
    "output[\"Estimate\"] = est\n",
    "output[\"SE\"]       = SE\n",
    "output[\"tStat\"]    = tStat\n",
    "output[\"pValue\"]   = pVal\n",
    "\n",
    "print(\"Number of observations: %.d, Error degrees of freedom: %.d\" % \\\n",
    "      (df.shape[0], EDF))\n",
    "print(\"Root Mean Squared Error: %.4f\" % rootMSE)\n",
    "print(\"R-squared: %.3f, Adjusted R-Squared: %.3f\" % \\\n",
    "      (r2_score(df[\"y\"], pred), 234))\n",
    "mp.hist(eff_colsd);\n",
    "\n",
    "print(\"\\nEstimated Coefficients:\")\n",
    "output"
   ]
  },
  {
   "cell_type": "code",
   "execution_count": null,
   "metadata": {},
   "outputs": [],
   "source": []
  }
 ],
 "metadata": {
  "kernelspec": {
   "display_name": "Python 3",
   "language": "python",
   "name": "python3"
  },
  "language_info": {
   "codemirror_mode": {
    "name": "ipython",
    "version": 3
   },
   "file_extension": ".py",
   "mimetype": "text/x-python",
   "name": "python",
   "nbconvert_exporter": "python",
   "pygments_lexer": "ipython3",
   "version": "3.7.4"
  }
 },
 "nbformat": 4,
 "nbformat_minor": 2
}
