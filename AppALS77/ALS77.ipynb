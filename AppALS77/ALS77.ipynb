{
 "cells": [
  {
   "cell_type": "markdown",
   "metadata": {},
   "source": [
    "# Electricity generators data set from SL79-80\n",
    "# MLE ALS77"
   ]
  },
  {
   "cell_type": "code",
   "execution_count": 2,
   "metadata": {},
   "outputs": [],
   "source": [
    "import numpy              as np\n",
    "import pandas             as pd\n",
    "import matplotlib.pyplot  as mp\n",
    "from   scipy.stats    import norm,     invgauss\n",
    "from   scipy.optimize import minimize, OptimizeResult\n",
    "import sys"
   ]
  },
  {
   "cell_type": "markdown",
   "metadata": {},
   "source": [
    "### 1. import data"
   ]
  },
  {
   "cell_type": "code",
   "execution_count": 3,
   "metadata": {},
   "outputs": [],
   "source": [
    "SOURCE = \"../DataSets/cowing.xlsx\"\n",
    "\n",
    "df = pd.read_excel(SOURCE)\n",
    "y = df[\"y\"]\n",
    "[x1, x2, x3] = [df[\"X1\"], df[\"X2\"], df[\"X3\"]]\n",
    "[p1, p2, p3] = [np.log(df[\"P1\"]), np.log(df[\"P2\"]), np.log(df[\"P3\"])]"
   ]
  },
  {
   "cell_type": "markdown",
   "metadata": {},
   "source": [
    "### 2. functions implementations"
   ]
  },
  {
   "cell_type": "markdown",
   "metadata": {},
   "source": [
    "#### AppLogDen"
   ]
  },
  {
   "cell_type": "code",
   "execution_count": 4,
   "metadata": {},
   "outputs": [],
   "source": [
    "def AppLogDen_ALS77(Pars: np.array):\n",
    "    \n",
    "    global y, x1, x2, x3, p1, p2, p3\n",
    "    \n",
    "    [alpha, beta1, beta2, beta3, sigma2u, sigma2v] = Pars[0:6]\n",
    "    \n",
    "    Lambda = np.sqrt( sigma2u / sigma2v )\n",
    "    sigma2 = sigma2u + sigma2v\n",
    "    sigma  = np.sqrt( sigma2 )\n",
    "    \n",
    "    eps = y  - alpha - x1*beta1 - x2*beta2 - x3*beta3\n",
    "    \n",
    "    # in norm.pdf and norm.cdf loc=0 and scale=1 by default \n",
    "    Den = (2/sigma) * norm.pdf(eps / sigma) * norm.cdf(-Lambda * eps / sigma)\n",
    "    \n",
    "    return np.log(Den)"
   ]
  },
  {
   "cell_type": "markdown",
   "metadata": {},
   "source": [
    "#### AppLoglikelihood"
   ]
  },
  {
   "cell_type": "code",
   "execution_count": 5,
   "metadata": {},
   "outputs": [],
   "source": [
    "def AppLoglikelihood_ALS77(coefs: np.array):\n",
    "    AppLoglikelihood_ALS77.calls += 1\n",
    "    \n",
    "    #~~~~ transform parametrs back true range ~~~~#\n",
    "    coefs[4:6] = np.exp(coefs[4:6])\n",
    "    \n",
    "    #~~~~ obtain the log likelihood ~~~~#\n",
    "    logDen = AppLogDen_ALS77(coefs)\n",
    "    return -sum(logDen)\n",
    "\n",
    "AppLoglikelihood_ALS77.calls = 0\n",
    "AppLoglikelihood_ALS77.it    = 0\n",
    "AppLoglikelihood_ALS77.prev  = []"
   ]
  },
  {
   "cell_type": "markdown",
   "metadata": {},
   "source": [
    "#### AppEstimate"
   ]
  },
  {
   "cell_type": "code",
   "execution_count": 6,
   "metadata": {},
   "outputs": [],
   "source": [
    "def _callback(vec):\n",
    "    App = AppLoglikelihood_ALS77\n",
    "    App.calls -= 1\n",
    "    print(\"\\r\" + \" \"*100 + \"\\r\", end = \"\")\n",
    "    print(\"| %d\\t\\t | %d\\t\\t | %.4f\\t | %.1e\\t|\" % (\n",
    "          App.it, App.calls, App(np.copy(vec)),\n",
    "          np.linalg.norm(App.prev - vec)           ), \n",
    "          end = \"\")\n",
    "    \n",
    "    App.it  += 1 \n",
    "    App.prev = np.copy(vec)"
   ]
  },
  {
   "cell_type": "code",
   "execution_count": 7,
   "metadata": {},
   "outputs": [],
   "source": [
    "def AppEstimate_ALS77():\n",
    "    \n",
    "    global y, x1, x2, x3, p1, p2, p3, it\n",
    "    \n",
    "    #~~~~ starting point ~~~~#\n",
    "    alpha    = -11 \n",
    "    beta1    = 0.03\n",
    "    beta2    = 1.1\n",
    "    beta3    = -0.01\n",
    "    \n",
    "    sigma2u  = 0.01\n",
    "    sigma2v  = 0.0003\n",
    "    lsigma2u = np.log(sigma2u)\n",
    "    lsigma2v = np.log(sigma2v)\n",
    "    \n",
    "    theta0 = np.array([alpha, beta1, beta2, beta3, lsigma2u, lsigma2v])\n",
    "    \n",
    "    #~~~~ estimation ~~~~#\n",
    "    print(\"| Iteration\\t | F-count \\t | f(x)\\t\\t | Step-size\\t|\")\n",
    "\n",
    "    AppLoglikelihood_ALS77.it    = 1\n",
    "    AppLoglikelihood_ALS77.calls = 1\n",
    "    AppLoglikelihood_ALS77.prev  = np.copy(theta0)\n",
    "    \n",
    "    rez = minimize(AppLoglikelihood_ALS77, theta0,\n",
    "                   method=\"Powell\",\n",
    "                   options={\"disp\": False,\n",
    "                            \"xtol\": 1e-10,\n",
    "                            \"ftol\": 1e-10,\n",
    "                            \"maxiter\": 20000},\n",
    "                   callback=_callback);\n",
    "    \n",
    "    theta  = rez.x\n",
    "    logMLE = rez.fun\n",
    "    \n",
    "    #~~~~ standard errors ~~~~#\n",
    "    theta[4:6] = np.exp(theta[4:6])\n",
    "    delta = 1e-6\n",
    "    grad  = pd.DataFrame( np.zeros((len(y), len(theta))) )\n",
    "    \n",
    "    for i in range(len(theta)):\n",
    "        theta1 = np.copy(theta)\n",
    "        theta1[i] += delta\n",
    "        grad.iloc[:, i] = (AppLogDen_ALS77(theta1) - \n",
    "                           AppLogDen_ALS77(theta )) / delta\n",
    "        \n",
    "    OPG  = grad.transpose().dot(grad)\n",
    "    D    = np.diag( np.concatenate(([1, 1, 1, 1], theta[4:6])) )\n",
    "    ster = np.sqrt( np.diag(np.linalg.inv(OPG)) )\n",
    "    \n",
    "    return [theta, ster, logMLE]"
   ]
  },
  {
   "cell_type": "markdown",
   "metadata": {},
   "source": [
    "### 3. Maximum Likelihood Estimation"
   ]
  },
  {
   "cell_type": "code",
   "execution_count": 8,
   "metadata": {},
   "outputs": [
    {
     "name": "stdout",
     "output_type": "stream",
     "text": [
      "| Iteration\t | F-count \t | f(x)\t\t | Step-size\t|\n",
      "| 25\t\t | 4099\t\t | -123.0607\t | 9.6e-05\t|                                                            \n",
      "\n",
      "ans =\n",
      "\t-11.0178\n",
      "\t0.0402\n",
      "\t1.0860\n",
      "\t-0.0191\n",
      "\t0.0107\n",
      "\t0.0027\n"
     ]
    }
   ],
   "source": [
    "sys.stderr = None\n",
    "[coefs, ster, logMLE] = AppEstimate_ALS77()\n",
    "\n",
    "print(\"\\n\\nans =\")\n",
    "for i in range(len(coefs)):\n",
    "    print(\"\\t%.4f\" % coefs[i])\n",
    "sys.stderr = sys.__stderr__"
   ]
  },
  {
   "cell_type": "markdown",
   "metadata": {},
   "source": [
    "### 4. Prediction of inefficiencies"
   ]
  },
  {
   "cell_type": "code",
   "execution_count": 9,
   "metadata": {},
   "outputs": [
    {
     "data": {
      "image/png": "[encoded data removed]",
      "text/plain": [
       "<Figure size 432x288 with 1 Axes>"
      ]
     },
     "metadata": {
      "needs_background": "light"
     },
     "output_type": "display_data"
    }
   ],
   "source": [
    "eps = y - coefs[0] - x1*coefs[1] - x2*coefs[2] - x3*coefs[3]\n",
    "\n",
    "sig = np.sqrt(coefs[4] + coefs[5])\n",
    "lam = np.sqrt(coefs[4] / coefs[5])\n",
    "\n",
    "bi  = eps * lam / sig\n",
    "haz = norm.pdf(bi) / (1 - norm.cdf(bi))\n",
    "sigstar = np.sqrt(coefs[4] * coefs[5]) / sig\n",
    "\n",
    "Eu = sigstar * (haz - bi)\n",
    "Vu = (sigstar**2) * (1 + bi*haz - haz*haz)\n",
    "\n",
    "mp.hist(Eu);"
   ]
  },
  {
   "cell_type": "markdown",
   "metadata": {},
   "source": [
    "### 5. output"
   ]
  },
  {
   "cell_type": "code",
   "execution_count": 11,
   "metadata": {},
   "outputs": [
    {
     "name": "stdout",
     "output_type": "stream",
     "text": [
      "LL -123.06\n"
     ]
    },
    {
     "data": {
      "text/html": [
       "<div>\n",
       "<style scoped>\n",
       "    .dataframe tbody tr th:only-of-type {\n",
       "        vertical-align: middle;\n",
       "    }\n",
       "\n",
       "    .dataframe tbody tr th {\n",
       "        vertical-align: top;\n",
       "    }\n",
       "\n",
       "    .dataframe thead th {\n",
       "        text-align: right;\n",
       "    }\n",
       "</style>\n",
       "<table border=\"1\" class=\"dataframe\">\n",
       "  <thead>\n",
       "    <tr style=\"text-align: right;\">\n",
       "      <th></th>\n",
       "      <th>Est</th>\n",
       "      <th>stErr</th>\n",
       "      <th>t-stat</th>\n",
       "      <th>p-val</th>\n",
       "      <th>95%conf</th>\n",
       "      <th>Interv</th>\n",
       "    </tr>\n",
       "  </thead>\n",
       "  <tbody>\n",
       "    <tr>\n",
       "      <td>alpha</td>\n",
       "      <td>-11.017774</td>\n",
       "      <td>0.200152</td>\n",
       "      <td>-55.047157</td>\n",
       "      <td>0.000000</td>\n",
       "      <td>-11.410064</td>\n",
       "      <td>-10.625485</td>\n",
       "    </tr>\n",
       "    <tr>\n",
       "      <td>beta1</td>\n",
       "      <td>0.040225</td>\n",
       "      <td>0.019176</td>\n",
       "      <td>2.097687</td>\n",
       "      <td>0.035933</td>\n",
       "      <td>0.002641</td>\n",
       "      <td>0.077808</td>\n",
       "    </tr>\n",
       "    <tr>\n",
       "      <td>beta2</td>\n",
       "      <td>1.086018</td>\n",
       "      <td>0.020338</td>\n",
       "      <td>53.397931</td>\n",
       "      <td>0.000000</td>\n",
       "      <td>1.046156</td>\n",
       "      <td>1.125880</td>\n",
       "    </tr>\n",
       "    <tr>\n",
       "      <td>beta3</td>\n",
       "      <td>-0.019122</td>\n",
       "      <td>0.025819</td>\n",
       "      <td>-0.740629</td>\n",
       "      <td>0.458918</td>\n",
       "      <td>-0.069726</td>\n",
       "      <td>0.031482</td>\n",
       "    </tr>\n",
       "    <tr>\n",
       "      <td>sig2u</td>\n",
       "      <td>0.010650</td>\n",
       "      <td>0.003315</td>\n",
       "      <td>3.212968</td>\n",
       "      <td>0.001314</td>\n",
       "      <td>0.004153</td>\n",
       "      <td>0.017147</td>\n",
       "    </tr>\n",
       "    <tr>\n",
       "      <td>sig2v</td>\n",
       "      <td>0.002733</td>\n",
       "      <td>0.000855</td>\n",
       "      <td>3.198075</td>\n",
       "      <td>0.001383</td>\n",
       "      <td>0.001058</td>\n",
       "      <td>0.004408</td>\n",
       "    </tr>\n",
       "  </tbody>\n",
       "</table>\n",
       "</div>"
      ],
      "text/plain": [
       "             Est     stErr     t-stat     p-val    95%conf     Interv\n",
       "alpha -11.017774  0.200152 -55.047157  0.000000 -11.410064 -10.625485\n",
       "beta1   0.040225  0.019176   2.097687  0.035933   0.002641   0.077808\n",
       "beta2   1.086018  0.020338  53.397931  0.000000   1.046156   1.125880\n",
       "beta3  -0.019122  0.025819  -0.740629  0.458918  -0.069726   0.031482\n",
       "sig2u   0.010650  0.003315   3.212968  0.001314   0.004153   0.017147\n",
       "sig2v   0.002733  0.000855   3.198075  0.001383   0.001058   0.004408"
      ]
     },
     "execution_count": 11,
     "metadata": {},
     "output_type": "execute_result"
    }
   ],
   "source": [
    "output = pd.DataFrame(index  =[\"alpha\", \"beta1\", \"beta2\", \"beta3\", \"sig2u\", \"sig2v\"], \n",
    "                      columns=[\"Est\", \"stErr\", \"t-stat\", \"p-val\", \"95%conf\", \"Interv\"])\n",
    "output[\"Est\"]     = coefs\n",
    "output[\"stErr\"]   = ster\n",
    "output[\"t-stat\"]  = coefs / ster\n",
    "output[\"p-val\"]   = 2 * (1 - norm.cdf(np.absolute(output[\"t-stat\"])) )\n",
    "output[\"95%conf\"] = norm.ppf(0.025, coefs, ster)\n",
    "output[\"Interv\"]  = norm.ppf(0.975, coefs, ster)\n",
    "\n",
    "print(\"LL %.2f\" % logMLE)\n",
    "output"
   ]
  },
  {
   "cell_type": "code",
   "execution_count": null,
   "metadata": {},
   "outputs": [],
   "source": []
  }
 ],
 "metadata": {
  "kernelspec": {
   "display_name": "Python 3",
   "language": "python",
   "name": "python3"
  },
  "language_info": {
   "codemirror_mode": {
    "name": "ipython",
    "version": 3
   },
   "file_extension": ".py",
   "mimetype": "text/x-python",
   "name": "python",
   "nbconvert_exporter": "python",
   "pygments_lexer": "ipython3",
   "version": "3.7.4"
  }
 },
 "nbformat": 4,
 "nbformat_minor": 2
}
