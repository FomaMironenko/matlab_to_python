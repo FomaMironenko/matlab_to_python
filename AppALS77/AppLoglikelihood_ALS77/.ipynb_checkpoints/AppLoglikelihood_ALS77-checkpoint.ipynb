{
 "cells": [
  {
   "cell_type": "code",
   "execution_count": null,
   "metadata": {},
   "outputs": [],
   "source": [
    "import numpy           as np\n",
    "import pandas          as pd\n",
    "from scipy.stats    import norm\n",
    "from scipy.optimize import minimize, OptimizeResult"
   ]
  },
  {
   "cell_type": "code",
   "execution_count": null,
   "metadata": {},
   "outputs": [],
   "source": [
    "def AppLoglikelihood_ALS77(coefs: np.array):\n",
    "    \n",
    "    #~~~~ transform parametrs back true range ~~~~#\n",
    "    coefs[4:6] = np.exp(coefs[4:6])\n",
    "    \n",
    "    #~~~~ obtain the log likelihood ~~~~#\n",
    "    logDen = AppLogDen_ALS77(coefs)\n",
    "    return -sum(logDen)"
   ]
  }
 ],
 "metadata": {
  "kernelspec": {
   "display_name": "Python 3",
   "language": "python",
   "name": "python3"
  },
  "language_info": {
   "codemirror_mode": {
    "name": "ipython",
    "version": 3
   },
   "file_extension": ".py",
   "mimetype": "text/x-python",
   "name": "python",
   "nbconvert_exporter": "python",
   "pygments_lexer": "ipython3",
   "version": "3.7.4"
  }
 },
 "nbformat": 4,
 "nbformat_minor": 2
}
