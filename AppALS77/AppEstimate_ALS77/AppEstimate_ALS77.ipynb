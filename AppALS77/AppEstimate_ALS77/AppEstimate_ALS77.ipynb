{
 "cells": [
  {
   "cell_type": "code",
   "execution_count": null,
   "metadata": {},
   "outputs": [],
   "source": [
    "import numpy           as np\n",
    "import pandas          as pd\n",
    "from scipy.stats    import norm\n",
    "from scipy.optimize import minimize, OptimizeResult"
   ]
  },
  {
   "cell_type": "code",
   "execution_count": null,
   "metadata": {},
   "outputs": [],
   "source": [
    "it = 0\n",
    "def _callback(vec):\n",
    "    global it\n",
    "    print(f\"{it}\\t {AppLoglikelihood_ALS77(np.copy(vec))}\")    \n",
    "    it += 1"
   ]
  },
  {
   "cell_type": "code",
   "execution_count": null,
   "metadata": {},
   "outputs": [],
   "source": [
    "def AppEstimate_ALS77():\n",
    "    \n",
    "    global y, x1, x2, x3, p1, p2, p3, it\n",
    "    \n",
    "    alpha    = -11 \n",
    "    beta1    = 0.03\n",
    "    beta2    = 1.1\n",
    "    beta3    = -0.01\n",
    "    \n",
    "    sigma2u  = 0.01\n",
    "    sigma2v  = 0.0003\n",
    "    lsigma2u = np.log(sigma2u)\n",
    "    lsigma2v = np.log(sigma2v)\n",
    "    \n",
    "    theta0 = [alpha, beta1, beta2, beta3, lsigma2u, lsigma2v]\n",
    "    \n",
    "    print(\"Iteration\\t f(x)\")\n",
    "    _callback.prev = np.copy(theta0)\n",
    "    rez = minimize(AppLoglikelihood_ALS77, np.array(theta0),\n",
    "                   method=\"Powell\",\n",
    "                   options={\"disp\": False,\n",
    "                            \"xtol\": 1e-10,\n",
    "                            \"ftol\": 1e-10,\n",
    "                            \"maxiter\": 20000},\n",
    "                   callback=_callback)\n",
    "    it = 0\n",
    "    theta  = rez.x\n",
    "    logMLE = rez.fun\n",
    "    \n",
    "    #~~~~ standard errors ~~~~#\n",
    "    theta[4:6] = np.exp(theta[4:6])\n",
    "    delta = 1e-6\n",
    "    grad  = pd.DataFrame( np.zeros((len(y), len(theta))) )\n",
    "    \n",
    "    for i in range(len(theta)):\n",
    "        theta1 = np.copy(theta)\n",
    "        theta1[i] += delta\n",
    "        grad.iloc[:, i] = (AppLogDen_ALS77(theta1) - \n",
    "                           AppLogDen_ALS77(theta )) / delta\n",
    "        \n",
    "    OPG  = grad.transpose().dot(grad)\n",
    "    D    = np.diag( np.concatenate(([1, 1, 1, 1], theta[4:6])) )\n",
    "    ster = np.sqrt( np.diag(np.linalg.inv(OPG)) )\n",
    "    \n",
    "    return [theta, ster, logMLE]"
   ]
  }
 ],
 "metadata": {
  "kernelspec": {
   "display_name": "Python 3",
   "language": "python",
   "name": "python3"
  },
  "language_info": {
   "codemirror_mode": {
    "name": "ipython",
    "version": 3
   },
   "file_extension": ".py",
   "mimetype": "text/x-python",
   "name": "python",
   "nbconvert_exporter": "python",
   "pygments_lexer": "ipython3",
   "version": "3.7.4"
  }
 },
 "nbformat": 4,
 "nbformat_minor": 2
}
