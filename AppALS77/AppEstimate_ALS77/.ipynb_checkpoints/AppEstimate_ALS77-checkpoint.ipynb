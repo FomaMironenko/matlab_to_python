{
 "cells": [
  {
   "cell_type": "code",
   "execution_count": 1,
   "metadata": {},
   "outputs": [],
   "source": [
    "import numpy as np\n",
    "import pandas as pd"
   ]
  },
  {
   "cell_type": "code",
   "execution_count": 10,
   "metadata": {},
   "outputs": [
    {
     "data": {
      "text/plain": [
       "6"
      ]
     },
     "execution_count": 10,
     "metadata": {},
     "output_type": "execute_result"
    }
   ],
   "source": [
    "def AppLogDen_ALS77(Pars: pd.Series):\n",
    "    \n",
    "    global y, x1, x2, x3, p1, p2, p3\n",
    "    \n",
    "    [alpha, beta1, beta2, beta3, \n",
    "     sigma2u, sigma2v] = Pars[0:6]\n",
    "    \n",
    "    Lambda = np.sqrt(sigma2u / sigma2v)\n",
    "    sigma2 = sigma2u + sigma2v\n",
    "    sigma  = np.sqrt( sigma2 )\n",
    "    \n",
    "    eps = y - alpha - x1*beta1 - x2*beta2 - x3*beta3\n",
    "    B2  = p2 - p1 + np.log(beta1) - np.log(beta2)\n",
    "    B3  = p3 - p1 + np.log(beta1) - np.log(beta3)\n",
    "    w1  = x1 - x2 - B2\n",
    "    w2  = x1 - x3 - B3\n",
    "    w   = []\n",
    "    \n",
    "    Den = "
   ]
  },
  {
   "cell_type": "code",
   "execution_count": 9,
   "metadata": {},
   "outputs": [
    {
     "data": {
      "text/plain": [
       "[2, 3, 4, 5, 403.4287934927351, 1096.6331584284585]"
      ]
     },
     "execution_count": 9,
     "metadata": {},
     "output_type": "execute_result"
    }
   ],
   "source": [
    "def AppLogLikelihood_ALS77(coefs: pd.Series):\n",
    "    \n",
    "    #~~~~ transform parametrs back true range ~~~~#\n",
    "    coefs[4:6] = np.exp(coefs[4:6])\n",
    "    \n",
    "    #~~~~ obtain the log likelihood ~~~~#\n",
    "    logDen = AppLogDen_ALS77(coefs)\n",
    "    return -sum(logDen)"
   ]
  },
  {
   "cell_type": "code",
   "execution_count": null,
   "metadata": {},
   "outputs": [],
   "source": [
    "def AppEstimate_ALS77():\n",
    "    "
   ]
  }
 ],
 "metadata": {
  "kernelspec": {
   "display_name": "Python 3",
   "language": "python",
   "name": "python3"
  },
  "language_info": {
   "codemirror_mode": {
    "name": "ipython",
    "version": 3
   },
   "file_extension": ".py",
   "mimetype": "text/x-python",
   "name": "python",
   "nbconvert_exporter": "python",
   "pygments_lexer": "ipython3",
   "version": "3.7.4"
  }
 },
 "nbformat": 4,
 "nbformat_minor": 2
}
