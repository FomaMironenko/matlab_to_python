{
 "cells": [
  {
   "cell_type": "code",
   "execution_count": 1,
   "metadata": {},
   "outputs": [],
   "source": [
    "import numpy           as np\n",
    "import pandas          as pd\n",
    "from scipy.stats    import norm\n",
    "from scipy.optimize import minimize, OptimizeResult"
   ]
  },
  {
   "cell_type": "markdown",
   "metadata": {},
   "source": [
    "### 1. import data"
   ]
  },
  {
   "cell_type": "code",
   "execution_count": 2,
   "metadata": {},
   "outputs": [],
   "source": [
    "SOURCE = \"../DataSets/cowing.xlsx\"\n",
    "\n",
    "df = pd.read_excel(SOURCE)\n",
    "y = df[\"y\"]\n",
    "[x1, x2, x3] = [df[\"X1\"], df[\"X2\"], df[\"X3\"]]\n",
    "[p1, p2, p3] = [np.log(df[\"P1\"]), np.log(df[\"P2\"]), np.log(df[\"P3\"])]"
   ]
  },
  {
   "cell_type": "markdown",
   "metadata": {},
   "source": [
    "### 2. functions implementations"
   ]
  },
  {
   "cell_type": "markdown",
   "metadata": {},
   "source": [
    "#### AppLogDen"
   ]
  },
  {
   "cell_type": "code",
   "execution_count": 3,
   "metadata": {},
   "outputs": [],
   "source": [
    "def AppLogDen_ALS77(Pars: np.array):\n",
    "    \n",
    "    global y, x1, x2, x3, p1, p2, p3\n",
    "    \n",
    "    [alpha, beta1, beta2, beta3, sigma2u, sigma2v] = Pars[0:6]\n",
    "    \n",
    "    Lambda = np.sqrt( sigma2u / sigma2v )\n",
    "    sigma2 = sigma2u + sigma2v\n",
    "    sigma  = np.sqrt( sigma2 )\n",
    "    \n",
    "    eps = y - alpha - x1*beta1 - x2*beta2 - x3*beta3\n",
    "    B2  = p2 - p1 + np.log(beta1) - np.log(beta2)\n",
    "    B3  = p3 - p1 + np.log(beta1) - np.log(beta3)\n",
    "    w1  = x1 - x2 - B2\n",
    "    w2  = x1 - x3 - B3\n",
    "    w   = pd.concat([w1, w2], axis=1)\n",
    "    \n",
    "    # in norm.pdf and norm.cdf loc=0 and scale=1 by default \n",
    "    Den = (2/sigma) * norm.pdf(eps / sigma) * norm.cdf(-Lambda * eps / sigma)\n",
    "    \n",
    "    return np.log(Den)"
   ]
  },
  {
   "cell_type": "markdown",
   "metadata": {},
   "source": [
    "#### AppLoglikelihood"
   ]
  },
  {
   "cell_type": "code",
   "execution_count": 4,
   "metadata": {},
   "outputs": [],
   "source": [
    "def AppLoglikelihood_ALS77(coefs: np.array):\n",
    "    \n",
    "    #~~~~ transform parametrs back true range ~~~~#\n",
    "    coefs[4:6] = np.exp(coefs[4:6])\n",
    "    \n",
    "    #~~~~ obtain the log likelihood ~~~~#\n",
    "    logDen = AppLogDen_ALS77(coefs)\n",
    "    return -sum(logDen)"
   ]
  },
  {
   "cell_type": "markdown",
   "metadata": {},
   "source": [
    "#### AppEstimate"
   ]
  },
  {
   "cell_type": "code",
   "execution_count": 5,
   "metadata": {},
   "outputs": [],
   "source": [
    "it = 0\n",
    "def _callback(vec):\n",
    "    global it\n",
    "    print(f\"{it}\\t {AppLoglikelihood_ALS77(np.copy(vec))}\")    \n",
    "    it += 1"
   ]
  },
  {
   "cell_type": "code",
   "execution_count": 11,
   "metadata": {},
   "outputs": [],
   "source": [
    "def AppEstimate_ALS77():\n",
    "    \n",
    "    global y, x1, x2, x3, p1, p2, p3, it\n",
    "    \n",
    "    alpha    = -11 \n",
    "    beta1    = 0.03\n",
    "    beta2    = 1.1\n",
    "    beta3    = -0.01\n",
    "    \n",
    "    sigma2u  = 0.01\n",
    "    sigma2v  = 0.0003\n",
    "    lsigma2u = np.log(sigma2u)\n",
    "    lsigma2v = np.log(sigma2v)\n",
    "    \n",
    "    theta0 = [alpha, beta1, beta2, beta3, lsigma2u, lsigma2v]\n",
    "    \n",
    "    print(\"Iteration\\t f(x)\")\n",
    "    rez = minimize(AppLoglikelihood_ALS77, np.array(theta0),\n",
    "                   method=\"Powell\",\n",
    "                   options={\"disp\": True,\n",
    "                            \"xtol\": 1e-10,\n",
    "                            \"ftol\": 1e-10,\n",
    "                            \"maxiter\": 20000},\n",
    "                   callback=_callback)\n",
    "    it = 0\n",
    "    theta  = rez.x\n",
    "    logMLE = rez.fun\n",
    "    \n",
    "    #~~~~ standard errors ~~~~#\n",
    "    theta[4:6] = np.exp(theta[4:6])\n",
    "    delta = 1e-6\n",
    "    grad  = pd.DataFrame( np.zeros((len(y), len(theta))) )\n",
    "    \n",
    "    for i in range(len(theta)):\n",
    "        theta1 = np.copy(theta)\n",
    "        theta1[i] += delta\n",
    "        grad.iloc[:, i] = (AppLogDen_ALS77(theta1) - \n",
    "                           AppLogDen_ALS77(theta )) / delta\n",
    "        \n",
    "    OPG  = grad.transpose().dot(grad)\n",
    "    D    = np.diag( np.concatenate(([1, 1, 1, 1], theta[4:6])) )\n",
    "    ster = np.sqrt( np.diag(np.linalg.inv(OPG)) )\n",
    "    \n",
    "    return [theta, ster, logMLE]"
   ]
  },
  {
   "cell_type": "markdown",
   "metadata": {},
   "source": [
    "### 3. output"
   ]
  },
  {
   "cell_type": "code",
   "execution_count": 12,
   "metadata": {},
   "outputs": [
    {
     "name": "stdout",
     "output_type": "stream",
     "text": [
      "Iteration\t f(x)\n"
     ]
    },
    {
     "name": "stderr",
     "output_type": "stream",
     "text": [
      "/home/fomius2000/anaconda3/lib/python3.7/site-packages/ipykernel_launcher.py:13: RuntimeWarning: invalid value encountered in log\n",
      "  del sys.path[0]\n",
      "/home/fomius2000/anaconda3/lib/python3.7/site-packages/ipykernel_launcher.py:12: RuntimeWarning: invalid value encountered in log\n",
      "  if sys.path[0] == '':\n"
     ]
    },
    {
     "name": "stdout",
     "output_type": "stream",
     "text": [
      "0\t 47.14567748766984\n"
     ]
    },
    {
     "name": "stderr",
     "output_type": "stream",
     "text": [
      "/home/fomius2000/anaconda3/lib/python3.7/site-packages/ipykernel_launcher.py:21: RuntimeWarning: divide by zero encountered in log\n"
     ]
    },
    {
     "name": "stdout",
     "output_type": "stream",
     "text": [
      "1\t -35.81819746718527\n",
      "2\t -100.14104105349236\n",
      "3\t -118.38348859675008\n",
      "4\t -121.85594471590093\n",
      "5\t -122.05374246084331\n",
      "6\t -122.1424037300356\n",
      "7\t -122.14403327985067\n",
      "8\t -122.34570495344094\n",
      "9\t -122.41179958033024\n",
      "10\t -122.53464190912723\n",
      "11\t -122.53586135681704\n",
      "12\t -122.73875595200431\n",
      "13\t -122.90292096521199\n",
      "14\t -123.00973669437326\n",
      "15\t -123.0106613968861\n",
      "16\t -123.01068196581863\n",
      "17\t -123.01116882631786\n",
      "18\t -123.01262932100515\n",
      "19\t -123.0240722772228\n",
      "20\t -123.0508563423245\n",
      "21\t -123.05762669980817\n",
      "22\t -123.06065321185777\n",
      "23\t -123.06065425925654\n",
      "24\t -123.06065448176794\n",
      "Optimization terminated successfully.\n",
      "         Current function value: -123.060654\n",
      "         Iterations: 25\n",
      "         Function evaluations: 4099\n",
      "ans = \n",
      "\n",
      "\t-11.0178\n",
      "\t0.0402\n",
      "\t1.0860\n",
      "\t-0.0191\n",
      "\t0.0107\n",
      "\t0.0027\n"
     ]
    }
   ],
   "source": [
    "[theta, ster, logMLE] = AppEstimate_ALS77()\n",
    "print(\"ans = \\n\")\n",
    "for i in range(len(theta)):\n",
    "    print(\"\\t%.4f\" % theta[i])"
   ]
  },
  {
   "cell_type": "code",
   "execution_count": null,
   "metadata": {},
   "outputs": [],
   "source": []
  }
 ],
 "metadata": {
  "kernelspec": {
   "display_name": "Python 3",
   "language": "python",
   "name": "python3"
  },
  "language_info": {
   "codemirror_mode": {
    "name": "ipython",
    "version": 3
   },
   "file_extension": ".py",
   "mimetype": "text/x-python",
   "name": "python",
   "nbconvert_exporter": "python",
   "pygments_lexer": "ipython3",
   "version": "3.7.4"
  }
 },
 "nbformat": 4,
 "nbformat_minor": 2
}
