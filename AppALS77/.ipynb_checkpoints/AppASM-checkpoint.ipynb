{
 "cells": [
  {
   "cell_type": "code",
   "execution_count": 1,
   "metadata": {},
   "outputs": [],
   "source": [
    "import numpy  as np\n",
    "import pandas as pd"
   ]
  },
  {
   "cell_type": "code",
   "execution_count": 18,
   "metadata": {},
   "outputs": [
    {
     "data": {
      "text/plain": [
       "0      6.955593\n",
       "1      7.255591\n",
       "2      7.351800\n",
       "3      7.312553\n",
       "4      6.517671\n",
       "         ...   \n",
       "106    5.214936\n",
       "107    6.111467\n",
       "108    7.294377\n",
       "109    8.142645\n",
       "110    5.267858\n",
       "Name: y, Length: 111, dtype: float64"
      ]
     },
     "execution_count": 18,
     "metadata": {},
     "output_type": "execute_result"
    }
   ],
   "source": [
    "df = pd.read_excel(\"../DataSets/cowing.xlsx\")\n",
    "y = df[\"y\"]\n",
    "x1 = df[\"X1\"]\n",
    "x2 = df[\"X2\"]\n",
    "x3 = df[\"X3\"]\n",
    "p1 = df[\"P1\"]\n",
    "p2 = df[\"P2\"]\n",
    "p3 = df[\"P3\"]"
   ]
  },
  {
   "cell_type": "code",
   "execution_count": 17,
   "metadata": {},
   "outputs": [
    {
     "name": "stdout",
     "output_type": "stream",
     "text": [
      "            0         1\n",
      "0   -0.185772  2.914729\n",
      "1    0.203163  3.570886\n",
      "2    0.243893  3.088265\n",
      "3    1.150068  4.010421\n",
      "4    1.279613  3.200047\n",
      "..        ...       ...\n",
      "106  0.833264  3.204064\n",
      "107  0.462516  1.713923\n",
      "108  0.419967  2.132848\n",
      "109  0.540051  3.951360\n",
      "110  1.150923  3.568176\n",
      "\n",
      "[111 rows x 2 columns]\n"
     ]
    }
   ],
   "source": [
    "def AppLogDen_ALS77(Pars: pd.Series):\n",
    "    \n",
    "    global y, x1, x2, x3, p1, p2, p3\n",
    "    \n",
    "    [alpha, beta1, beta2, beta3, sigma2u, sigma2v] = Pars[0:6]\n",
    "    \n",
    "    Lambda = np.sqrt(sigma2u / sigma2v)\n",
    "    sigma2 = sigma2u + sigma2v\n",
    "    sigma  = np.sqrt( sigma2 )\n",
    "    \n",
    "    eps = y - alpha - x1*beta1 - x2*beta2 - x3*beta3\n",
    "    B2  = p2 - p1 + np.log(beta1) - np.log(beta2)\n",
    "    B3  = p3 - p1 + np.log(beta1) - np.log(beta3)\n",
    "    w1  = x1 - x2 - B2\n",
    "    w2  = x1 - x3 - B3\n",
    "    w   = pd.concat([w1, w2], axis=1)\n",
    "    print(w)\n",
    "    #Den = 2/"
   ]
  },
  {
   "cell_type": "code",
   "execution_count": null,
   "metadata": {},
   "outputs": [],
   "source": [
    "def AppLogLikelihood_ALS77(coefs: pd.Series):\n",
    "    \n",
    "    #~~~~ transform parametrs back true range ~~~~#\n",
    "    coefs[4:6] = np.exp(coefs[4:6])\n",
    "    \n",
    "    #~~~~ obtain the log likelihood ~~~~#\n",
    "    logDen = AppLogDen_ALS77(coefs)\n",
    "    return -sum(logDen)"
   ]
  },
  {
   "cell_type": "code",
   "execution_count": null,
   "metadata": {},
   "outputs": [],
   "source": [
    "def AppEstimate_ALS77():"
   ]
  }
 ],
 "metadata": {
  "kernelspec": {
   "display_name": "Python 3",
   "language": "python",
   "name": "python3"
  },
  "language_info": {
   "codemirror_mode": {
    "name": "ipython",
    "version": 3
   },
   "file_extension": ".py",
   "mimetype": "text/x-python",
   "name": "python",
   "nbconvert_exporter": "python",
   "pygments_lexer": "ipython3",
   "version": "3.7.4"
  }
 },
 "nbformat": 4,
 "nbformat_minor": 2
}
